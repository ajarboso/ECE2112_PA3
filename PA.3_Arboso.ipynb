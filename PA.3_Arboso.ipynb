{
 "cells": [
  {
   "cell_type": "code",
   "execution_count": 33,
   "id": "be236620-65b5-4432-afa4-0080dcd2e961",
   "metadata": {},
   "outputs": [],
   "source": [
    "# Put the codes into the string variable\n",
    "code_problem_1 = \"\"\"\n",
    "\n",
    "#import pandas library\n",
    "import pandas as pd\n",
    "#load the .csv file into a data frame named cars\n",
    "cars = pd.read_csv('cars.csv')\n",
    "#print the first five rows of the resulting cars\n",
    "print(\"First Five\\n\",cars.head())\n",
    "#print the last five rows of the resulting cars\n",
    "print(\"Last Five\\n\",cars.tail())\n",
    "\"\"\"\n",
    "#writing the code block to a python file \n",
    "file_1 = open('Arboso_Pandas-P1.py','w')\n",
    "file_1.write(code_problem_1)\n",
    "#close the file\n",
    "file_1.close()"
   ]
  },
  {
   "cell_type": "code",
   "execution_count": 34,
   "id": "4b445da6-8ef1-491c-af5a-ae9e6a442e8a",
   "metadata": {},
   "outputs": [],
   "source": [
    "#Put the codes into string variable\n",
    "code_problem_2 = \"\"\"\n",
    "\n",
    "#import pandas library\n",
    "import pandas as np\n",
    "\n",
    "#load the .csv file into dataframe named cars\n",
    "cars = pd.read_csv('cars.csv')\n",
    "\n",
    "#print selected rows and column\n",
    "print(\"A.\\n\",cars.iloc[0:5:1,1::2])\n",
    "\n",
    "#prints all the rows the the Model is \"Mazda RX4\"\n",
    "print(\"B.\\n\",cars.loc[cars['Model']=='Mazda RX4'])\n",
    "\n",
    "#prints the cyl coloumn where the model is CamaroZ28\n",
    "print(\"C.\\n\",cars.loc[(cars['Model']=='Camaro Z28'),['cyl']])\n",
    "\n",
    "#prints the cyl and gear coloumn for the 3 specific models\n",
    "print(\"D.\\n\",cars.loc[cars['Model']=='Mazda RX4 Wag',['cyl','gear']])\n",
    "print(cars.loc[cars['Model']=='Ford Pantera L',['cyl','gear']])\n",
    "print(cars.loc[cars['Model']=='Honda Civic',['cyl','gear']])\n",
    "\n",
    "\"\"\"\n",
    "# Writes those code into python file\n",
    "file_2 = open('Arboso_Pandas-P2.py','w')\n",
    "file_2.write(code_problem_2)\n",
    "# Closed the file\n",
    "file_2.close()\n"
   ]
  },
  {
   "cell_type": "code",
   "execution_count": 29,
   "id": "0369fdae-b145-4464-a808-e5f724cdf04e",
   "metadata": {},
   "outputs": [
    {
     "data": {
      "text/html": [
       "<div>\n",
       "<style scoped>\n",
       "    .dataframe tbody tr th:only-of-type {\n",
       "        vertical-align: middle;\n",
       "    }\n",
       "\n",
       "    .dataframe tbody tr th {\n",
       "        vertical-align: top;\n",
       "    }\n",
       "\n",
       "    .dataframe thead th {\n",
       "        text-align: right;\n",
       "    }\n",
       "</style>\n",
       "<table border=\"1\" class=\"dataframe\">\n",
       "  <thead>\n",
       "    <tr style=\"text-align: right;\">\n",
       "      <th></th>\n",
       "      <th>cyl</th>\n",
       "    </tr>\n",
       "  </thead>\n",
       "  <tbody>\n",
       "    <tr>\n",
       "      <th>23</th>\n",
       "      <td>8</td>\n",
       "    </tr>\n",
       "  </tbody>\n",
       "</table>\n",
       "</div>"
      ],
      "text/plain": [
       "    cyl\n",
       "23    8"
      ]
     },
     "execution_count": 29,
     "metadata": {},
     "output_type": "execute_result"
    }
   ],
   "source": [
    "cars.loc[(cars['Model']=='Camaro Z28'),['cyl']]"
   ]
  },
  {
   "cell_type": "code",
   "execution_count": 32,
   "id": "a35cddc1-d1a5-4c0c-91af-4ffb07fabdd1",
   "metadata": {},
   "outputs": [
    {
     "data": {
      "text/html": [
       "<div>\n",
       "<style scoped>\n",
       "    .dataframe tbody tr th:only-of-type {\n",
       "        vertical-align: middle;\n",
       "    }\n",
       "\n",
       "    .dataframe tbody tr th {\n",
       "        vertical-align: top;\n",
       "    }\n",
       "\n",
       "    .dataframe thead th {\n",
       "        text-align: right;\n",
       "    }\n",
       "</style>\n",
       "<table border=\"1\" class=\"dataframe\">\n",
       "  <thead>\n",
       "    <tr style=\"text-align: right;\">\n",
       "      <th></th>\n",
       "      <th>cyl</th>\n",
       "      <th>gear</th>\n",
       "    </tr>\n",
       "  </thead>\n",
       "  <tbody>\n",
       "    <tr>\n",
       "      <th>18</th>\n",
       "      <td>4</td>\n",
       "      <td>4</td>\n",
       "    </tr>\n",
       "  </tbody>\n",
       "</table>\n",
       "</div>"
      ],
      "text/plain": [
       "    cyl  gear\n",
       "18    4     4"
      ]
     },
     "execution_count": 32,
     "metadata": {},
     "output_type": "execute_result"
    }
   ],
   "source": [
    "\n",
    "\n",
    "cars.loc[cars['Model']=='Honda Civic',['cyl','gear']]"
   ]
  },
  {
   "cell_type": "code",
   "execution_count": null,
   "id": "d1cf2c0c-8fd0-4e95-b7ec-8e56c8580e0e",
   "metadata": {},
   "outputs": [],
   "source": []
  }
 ],
 "metadata": {
  "kernelspec": {
   "display_name": "Python 3 (ipykernel)",
   "language": "python",
   "name": "python3"
  },
  "language_info": {
   "codemirror_mode": {
    "name": "ipython",
    "version": 3
   },
   "file_extension": ".py",
   "mimetype": "text/x-python",
   "name": "python",
   "nbconvert_exporter": "python",
   "pygments_lexer": "ipython3",
   "version": "3.12.4"
  }
 },
 "nbformat": 4,
 "nbformat_minor": 5
}
